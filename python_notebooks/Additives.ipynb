{
 "cells": [
  {
   "cell_type": "code",
   "execution_count": 1,
   "metadata": {},
   "outputs": [],
   "source": [
    "import requests \n",
    "import os \n",
    "from bs4 import BeautifulSoup\n",
    "\n",
    "def request_images(path, dest):\n",
    "    \"\"\"\n",
    "    Webscraper:\n",
    "    Takes in library ap_images flight url. \n",
    "    Returns all tifs within flight list. \n",
    "    dest specifies desired output path, typically within '..\\images\\flight##\\tif'\n",
    "    \"\"\"\n",
    "    r = requests.get(path)\n",
    "    soup = BeautifulSoup(r.content, 'html.parser') \n",
    "\n",
    "    # look for 'href' within all <a/>\n",
    "    imgs = soup.find_all(\"a\")\n",
    "    tifs = [img.attrs[\"href\"] for img in imgs]\n",
    "\n",
    "    for tif in tifs:\n",
    "        if tif.endswith('tif'):\n",
    "            tif_url = path+tif\n",
    "\n",
    "            # https://stackoverflow.com/questions/68874268/download-an-image-from-a-https-url-using-python\n",
    "            res=requests.get(tif_url, allow_redirects = True) \n",
    "            img_bytes=requests.get(tif_url).content # download bytes for a image\n",
    "            with open(os.path.join(dest, tif),\"wb\") as img_file:\n",
    "                img_file.write(img_bytes)"
   ]
  },
  {
   "attachments": {},
   "cell_type": "markdown",
   "metadata": {},
   "source": [
    "### Optimization\n",
    "* improve above script\n",
    "* pix2pix optimize image processing by training model \n",
    "### Classification \n",
    "* rasterize or vectorize set of images \n",
    "* compare and match to arrays \n",
    "* implement some kind of ML model"
   ]
  }
 ],
 "metadata": {
  "kernelspec": {
   "display_name": "base",
   "language": "python",
   "name": "python3"
  },
  "language_info": {
   "codemirror_mode": {
    "name": "ipython",
    "version": 3
   },
   "file_extension": ".py",
   "mimetype": "text/x-python",
   "name": "python",
   "nbconvert_exporter": "python",
   "pygments_lexer": "ipython3",
   "version": "3.9.13"
  },
  "orig_nbformat": 4
 },
 "nbformat": 4,
 "nbformat_minor": 2
}
